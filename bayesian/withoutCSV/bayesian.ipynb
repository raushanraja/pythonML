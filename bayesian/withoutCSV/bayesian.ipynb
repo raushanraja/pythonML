{
 "cells": [
  {
   "cell_type": "code",
   "execution_count": 207,
   "metadata": {
    "_cell_guid": "b1076dfc-b9ad-4769-8c92-a6c4dae69d19",
    "_uuid": "8f2839f25d086af736a60e9eeb907d3b93b6e0e5"
   },
   "outputs": [],
   "source": [
    "import numpy as np # linear algebra\n",
    "import pandas as pd # data processing, CSV file I/O (e.g. pd.read_csv)\n",
    "import matplotlib.pyplot as plt\n",
    "import os"
   ]
  },
  {
   "cell_type": "code",
   "execution_count": 208,
   "metadata": {
    "_cell_guid": "79c7e3d0-c299-4dcb-8224-4455121ee9b0",
    "_uuid": "d629ff2d2480ee46fbb7e2d37f6b5fab8052498a"
   },
   "outputs": [],
   "source": [
    "d={\n",
    "    'age':pd.Series(['youth','youth','middle','senior','senior','senior','middle','youth','youth','senior','youth','middle','middle','senior']),\n",
    "    'income':pd.Series(['high','high','high','medium','low','low','low','medium','low','medium','medium','medium','high','medium']),              \n",
    "    'student':pd.Series(['no','no','no','no','yes','yes','yes','no','yes','yes','yes','no','yes','no']),\n",
    "    'credit rating':pd.Series(['fair','excellent','fair','fair','fair','excellent','excellent','fair','fair','fair','excellent','excellent','fair','excellent']),\n",
    "    'buys computer':pd.Series(['no','no','yes','yes','yes','no','yes','no','yes','yes','yes','yes','yes','no'])\n",
    "}\n",
    "\n",
    "\n",
    "# creating a datafrme using pandas\n",
    "table=pd.DataFrame(d)\n",
    "\n",
    "# seperating each class attribute\n",
    "age=table['age']\n",
    "income=table['income']\n",
    "student=table['student']\n",
    "credit=table['credit rating']\n",
    "buysComputer=table['buys computer']\n"
   ]
  },
  {
   "cell_type": "code",
   "execution_count": 212,
   "metadata": {},
   "outputs": [
    {
     "data": {
      "text/html": [
       "<div>\n",
       "<style scoped>\n",
       "    .dataframe tbody tr th:only-of-type {\n",
       "        vertical-align: middle;\n",
       "    }\n",
       "\n",
       "    .dataframe tbody tr th {\n",
       "        vertical-align: top;\n",
       "    }\n",
       "\n",
       "    .dataframe thead th {\n",
       "        text-align: right;\n",
       "    }\n",
       "</style>\n",
       "<table border=\"1\" class=\"dataframe\">\n",
       "  <thead>\n",
       "    <tr style=\"text-align: right;\">\n",
       "      <th></th>\n",
       "      <th>age</th>\n",
       "      <th>income</th>\n",
       "      <th>student</th>\n",
       "      <th>credit rating</th>\n",
       "      <th>buys computer</th>\n",
       "    </tr>\n",
       "  </thead>\n",
       "  <tbody>\n",
       "    <tr>\n",
       "      <th>0</th>\n",
       "      <td>youth</td>\n",
       "      <td>high</td>\n",
       "      <td>no</td>\n",
       "      <td>fair</td>\n",
       "      <td>no</td>\n",
       "    </tr>\n",
       "    <tr>\n",
       "      <th>1</th>\n",
       "      <td>youth</td>\n",
       "      <td>high</td>\n",
       "      <td>no</td>\n",
       "      <td>excellent</td>\n",
       "      <td>no</td>\n",
       "    </tr>\n",
       "    <tr>\n",
       "      <th>2</th>\n",
       "      <td>middle</td>\n",
       "      <td>high</td>\n",
       "      <td>no</td>\n",
       "      <td>fair</td>\n",
       "      <td>yes</td>\n",
       "    </tr>\n",
       "    <tr>\n",
       "      <th>3</th>\n",
       "      <td>senior</td>\n",
       "      <td>medium</td>\n",
       "      <td>no</td>\n",
       "      <td>fair</td>\n",
       "      <td>yes</td>\n",
       "    </tr>\n",
       "    <tr>\n",
       "      <th>4</th>\n",
       "      <td>senior</td>\n",
       "      <td>low</td>\n",
       "      <td>yes</td>\n",
       "      <td>fair</td>\n",
       "      <td>yes</td>\n",
       "    </tr>\n",
       "    <tr>\n",
       "      <th>5</th>\n",
       "      <td>senior</td>\n",
       "      <td>low</td>\n",
       "      <td>yes</td>\n",
       "      <td>excellent</td>\n",
       "      <td>no</td>\n",
       "    </tr>\n",
       "    <tr>\n",
       "      <th>6</th>\n",
       "      <td>middle</td>\n",
       "      <td>low</td>\n",
       "      <td>yes</td>\n",
       "      <td>excellent</td>\n",
       "      <td>yes</td>\n",
       "    </tr>\n",
       "    <tr>\n",
       "      <th>7</th>\n",
       "      <td>youth</td>\n",
       "      <td>medium</td>\n",
       "      <td>no</td>\n",
       "      <td>fair</td>\n",
       "      <td>no</td>\n",
       "    </tr>\n",
       "    <tr>\n",
       "      <th>8</th>\n",
       "      <td>youth</td>\n",
       "      <td>low</td>\n",
       "      <td>yes</td>\n",
       "      <td>fair</td>\n",
       "      <td>yes</td>\n",
       "    </tr>\n",
       "    <tr>\n",
       "      <th>9</th>\n",
       "      <td>senior</td>\n",
       "      <td>medium</td>\n",
       "      <td>yes</td>\n",
       "      <td>fair</td>\n",
       "      <td>yes</td>\n",
       "    </tr>\n",
       "    <tr>\n",
       "      <th>10</th>\n",
       "      <td>youth</td>\n",
       "      <td>medium</td>\n",
       "      <td>yes</td>\n",
       "      <td>excellent</td>\n",
       "      <td>yes</td>\n",
       "    </tr>\n",
       "    <tr>\n",
       "      <th>11</th>\n",
       "      <td>middle</td>\n",
       "      <td>medium</td>\n",
       "      <td>no</td>\n",
       "      <td>excellent</td>\n",
       "      <td>yes</td>\n",
       "    </tr>\n",
       "    <tr>\n",
       "      <th>12</th>\n",
       "      <td>middle</td>\n",
       "      <td>high</td>\n",
       "      <td>yes</td>\n",
       "      <td>fair</td>\n",
       "      <td>yes</td>\n",
       "    </tr>\n",
       "    <tr>\n",
       "      <th>13</th>\n",
       "      <td>senior</td>\n",
       "      <td>medium</td>\n",
       "      <td>no</td>\n",
       "      <td>excellent</td>\n",
       "      <td>no</td>\n",
       "    </tr>\n",
       "  </tbody>\n",
       "</table>\n",
       "</div>"
      ],
      "text/plain": [
       "       age  income student credit rating buys computer\n",
       "0    youth    high      no          fair            no\n",
       "1    youth    high      no     excellent            no\n",
       "2   middle    high      no          fair           yes\n",
       "3   senior  medium      no          fair           yes\n",
       "4   senior     low     yes          fair           yes\n",
       "5   senior     low     yes     excellent            no\n",
       "6   middle     low     yes     excellent           yes\n",
       "7    youth  medium      no          fair            no\n",
       "8    youth     low     yes          fair           yes\n",
       "9   senior  medium     yes          fair           yes\n",
       "10   youth  medium     yes     excellent           yes\n",
       "11  middle  medium      no     excellent           yes\n",
       "12  middle    high     yes          fair           yes\n",
       "13  senior  medium      no     excellent            no"
      ]
     },
     "execution_count": 212,
     "metadata": {},
     "output_type": "execute_result"
    }
   ],
   "source": [
    "table"
   ]
  },
  {
   "cell_type": "code",
   "execution_count": 209,
   "metadata": {},
   "outputs": [],
   "source": [
    "# Function to count Distinct Values and no. of time they occur in  class label attribute\n",
    "def countDistinct(data):        \n",
    "    distinct=list(data.unique())    \n",
    "    data=list(data)\n",
    "    dicts=dict()\n",
    "    for i in distinct:\n",
    "        dicts[i]=data.count(i)\n",
    "    return dicts"
   ]
  },
  {
   "cell_type": "code",
   "execution_count": 210,
   "metadata": {},
   "outputs": [],
   "source": [
    "ageCount=countDistinct(age)\n",
    "incomeCount=countDistinct(income)\n",
    "studentCount=countDistinct(student)\n",
    "creditCount=countDistinct(credit)\n",
    "buysComputerCount=countDistinct(buysComputer)"
   ]
  },
  {
   "cell_type": "code",
   "execution_count": 213,
   "metadata": {},
   "outputs": [
    {
     "name": "stdout",
     "output_type": "stream",
     "text": [
      "Age Count: {'youth': 5, 'middle': 4, 'senior': 5} \n",
      "\n",
      "Income Count: {'high': 4, 'medium': 6, 'low': 4} \n",
      "\n",
      "Student Count: {'no': 7, 'yes': 7} \n",
      "\n",
      "Credit Count: {'fair': 8, 'excellent': 6} \n",
      "\n",
      "Buys Count: {'no': 5, 'yes': 9} \n",
      "\n"
     ]
    }
   ],
   "source": [
    "print(\"Age Count:\",ageCount,\"\\n\")\n",
    "print(\"Income Count:\",incomeCount,\"\\n\")\n",
    "print(\"Student Count:\",studentCount,\"\\n\")\n",
    "print(\"Credit Count:\",creditCount,\"\\n\")\n",
    "print(\"Buys Count:\",buysComputerCount,\"\\n\")\n"
   ]
  },
  {
   "cell_type": "code",
   "execution_count": 214,
   "metadata": {
    "scrolled": true
   },
   "outputs": [
    {
     "name": "stdout",
     "output_type": "stream",
     "text": [
      "Probability of Buy Computer, yes:  0.6428571428571429 \n",
      "\n",
      "Probability of Buy Computer, No:  0.35714285714285715 \n",
      "\n"
     ]
    }
   ],
   "source": [
    "# Finding probabily for Buys computer=Yes and Buys Computer=No\n",
    "# p(c1) and p(c2),  c1=buys computer:yes, c2=buys computer:no\n",
    "\n",
    "# strong all the Yes from table into a list\n",
    "list_of_yes=set(table.index[ table['buys computer'] == 'yes'].tolist())\n",
    "\n",
    "# getting number of Yes from the list using len(list)\n",
    "number_of_yes=len(list_of_yes)\n",
    "\n",
    "\n",
    "# strong all the No from table into a list\n",
    "list_of_no=set((table.index[ table['buys computer'] == 'no'].tolist()))\n",
    "\n",
    "# getting number of No from the list using len(list)\n",
    "number_of_no=len(list_of_no)\n",
    "\n",
    "\n",
    "ProbYes=number_of_yes/(number_of_yes+number_of_no)\n",
    "ProbNo=number_of_no/(number_of_yes+number_of_no)\n",
    "\n",
    "\n",
    "print(\"Probability of Buy Computer, yes: \", ProbYes,\"\\n\")\n",
    "print(\"Probability of Buy Computer, No: \", ProbNo,\"\\n\")"
   ]
  },
  {
   "cell_type": "code",
   "execution_count": 215,
   "metadata": {},
   "outputs": [],
   "source": [
    "printYes={}\n",
    "printNo={}\n",
    "# function to compute required condidtional probabilities\n",
    "def findProbXi(data,param,dicts):\n",
    "    findyes=set(table.index[ table[data] == param].tolist())\n",
    "    yes=len(findyes.intersection(list_of_yes))\n",
    "    no=(dicts[param])-yes\n",
    "    printYes[str(data)+\"= \"+str(param)+\" | Buys Computer=Yes\"]=yes/number_of_yes\n",
    "    printNo[str(data)+\"= \"+str(param)+\" | Buys Computer=No\"]=no/number_of_no\n",
    "    return yes/number_of_yes,no/number_of_no\n"
   ]
  },
  {
   "cell_type": "code",
   "execution_count": 216,
   "metadata": {},
   "outputs": [
    {
     "name": "stdout",
     "output_type": "stream",
     "text": [
      "p( age= youth | Buys Computer=Yes ) = 0.22222\n",
      "p( income= medium | Buys Computer=Yes ) = 0.44444\n",
      "p( student= yes | Buys Computer=Yes ) = 0.66667\n",
      "p( credit rating= fair | Buys Computer=Yes ) = 0.66667\n",
      "\n",
      "\n",
      "\n",
      "p( age= youth | Buys Computer=No ) = 0.60000\n",
      "p( income= medium | Buys Computer=No ) = 0.40000\n",
      "p( student= yes | Buys Computer=No ) = 0.20000\n",
      "p( credit rating= fair | Buys Computer=No ) = 0.40000\n"
     ]
    }
   ],
   "source": [
    "ageWhenYes,ageWhenNo=findProbXi('age','youth',ageCount)\n",
    "incomeWhenYes,incomeWhenNo=findProbXi('income','medium',incomeCount)\n",
    "studentWhenYes,studentWhenNo=findProbXi('student','yes',studentCount)\n",
    "creditWhenYes,creditWhenNo=findProbXi('credit rating','fair',creditCount)\n",
    "\n",
    "\n",
    "for key in printYes:\n",
    "    print(\"p(\",key,\")\",\"= %.5f\"%printYes.get(key))\n",
    "    \n",
    "print(\"\\n\\n\")    \n",
    "\n",
    "for key in printNo:\n",
    "    print(\"p(\",key,\")\",\"= %.5f\"%printNo.get(key))"
   ]
  },
  {
   "cell_type": "code",
   "execution_count": 217,
   "metadata": {},
   "outputs": [
    {
     "name": "stdout",
     "output_type": "stream",
     "text": [
      "c1=Buys Computer : Yes\n",
      "P(C1/X): 0.02822 \n",
      "\n",
      "\n",
      "c2=Buys Computer : NO\n",
      "P(C2/X): 0.00686\n",
      "\n",
      "\n",
      "Resulting Probabilty Whether Buying = Yes or NO\n",
      "yes :0.02822\n"
     ]
    }
   ],
   "source": [
    "\n",
    "probYesWhenX=ageWhenYes*incomeWhenYes*studentWhenYes*creditWhenYes*ProbYes\n",
    "print(\"c1=Buys Computer : Yes\")\n",
    "print(\"P(C1/X): %.5f\" %probYesWhenX,\"\\n\\n\")\n",
    "\n",
    "probNoWhenX=ageWhenNo*incomeWhenNo*studentWhenNo*creditWhenNo*ProbNo\n",
    "print(\"c2=Buys Computer : NO\")\n",
    "print(\"P(C2/X): %.5f\\n\\n\"%probNoWhenX)\n",
    "\n",
    "print(\"Resulting Probabilty Whether Buying = Yes or NO\")\n",
    "print(\"yes :%.5f\"%probYesWhenX if probYesWhenX > probNoWhenX else \"No :%.5f\"%probNoWhenX)\n"
   ]
  }
 ],
 "metadata": {
  "kernelspec": {
   "display_name": "Python 3",
   "language": "python",
   "name": "python3"
  },
  "language_info": {
   "codemirror_mode": {
    "name": "ipython",
    "version": 3
   },
   "file_extension": ".py",
   "mimetype": "text/x-python",
   "name": "python",
   "nbconvert_exporter": "python",
   "pygments_lexer": "ipython3",
   "version": "3.7.1"
  }
 },
 "nbformat": 4,
 "nbformat_minor": 1
}
